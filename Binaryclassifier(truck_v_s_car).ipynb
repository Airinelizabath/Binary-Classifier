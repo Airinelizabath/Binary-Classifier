{
  "nbformat": 4,
  "nbformat_minor": 0,
  "metadata": {
    "colab": {
      "name": "Binaryclassifier(truck v/s car).ipynb",
      "provenance": [],
      "collapsed_sections": [],
      "mount_file_id": "1pghM0Px1dTH7ZUm-nqQryBxHSkVRXfHN",
      "authorship_tag": "ABX9TyOTuM+GFEe3LETU6m6zOCp2",
      "include_colab_link": true
    },
    "kernelspec": {
      "name": "python3",
      "display_name": "Python 3"
    },
    "language_info": {
      "name": "python"
    }
  },
  "cells": [
    {
      "cell_type": "markdown",
      "metadata": {
        "id": "view-in-github",
        "colab_type": "text"
      },
      "source": [
        "<a href=\"https://colab.research.google.com/github/Airinelizabath/Binary-Classifier/blob/main/Binaryclassifier(truck_v_s_car).ipynb\" target=\"_parent\"><img src=\"https://colab.research.google.com/assets/colab-badge.svg\" alt=\"Open In Colab\"/></a>"
      ]
    },
    {
      "cell_type": "code",
      "metadata": {
        "id": "dLnTj3Phg-o2"
      },
      "source": [
        "import tensorflow as tf\n",
        "from tensorflow.keras import datasets,layers,models\n",
        "import matplotlib.pyplot as plt\n",
        "import numpy as np"
      ],
      "execution_count": 27,
      "outputs": []
    },
    {
      "cell_type": "code",
      "metadata": {
        "id": "p1X8W1o2hBuO"
      },
      "source": [
        "(X_train,y_train),(X_test,y_test)=datasets.cifar10.load_data()"
      ],
      "execution_count": 28,
      "outputs": []
    },
    {
      "cell_type": "code",
      "metadata": {
        "id": "DTMXhHzthDnK",
        "colab": {
          "base_uri": "https://localhost:8080/"
        },
        "outputId": "fddbde7c-f6a4-4b73-d704-5f994822bf2e"
      },
      "source": [
        "X_train.shape"
      ],
      "execution_count": 29,
      "outputs": [
        {
          "output_type": "execute_result",
          "data": {
            "text/plain": [
              "(50000, 32, 32, 3)"
            ]
          },
          "metadata": {
            "tags": []
          },
          "execution_count": 29
        }
      ]
    },
    {
      "cell_type": "code",
      "metadata": {
        "id": "i2_MS7XChFfF",
        "colab": {
          "base_uri": "https://localhost:8080/"
        },
        "outputId": "9260ef3a-8d9a-487b-b985-3cd539d39807"
      },
      "source": [
        "X_test.shape"
      ],
      "execution_count": 30,
      "outputs": [
        {
          "output_type": "execute_result",
          "data": {
            "text/plain": [
              "(10000, 32, 32, 3)"
            ]
          },
          "metadata": {
            "tags": []
          },
          "execution_count": 30
        }
      ]
    },
    {
      "cell_type": "code",
      "metadata": {
        "id": "5pRTwDqUhG4-",
        "colab": {
          "base_uri": "https://localhost:8080/"
        },
        "outputId": "2c98c950-7861-4dd8-c710-9c6c5f39106f"
      },
      "source": [
        "y_train.shape"
      ],
      "execution_count": 31,
      "outputs": [
        {
          "output_type": "execute_result",
          "data": {
            "text/plain": [
              "(50000, 1)"
            ]
          },
          "metadata": {
            "tags": []
          },
          "execution_count": 31
        }
      ]
    },
    {
      "cell_type": "code",
      "metadata": {
        "colab": {
          "base_uri": "https://localhost:8080/"
        },
        "id": "iSpjTY9JkQ3_",
        "outputId": "7eca04ac-5385-42ac-afce-a8f21db6db21"
      },
      "source": [
        "X_train[1]"
      ],
      "execution_count": 33,
      "outputs": [
        {
          "output_type": "execute_result",
          "data": {
            "text/plain": [
              "array([[[154, 177, 187],\n",
              "        [126, 137, 136],\n",
              "        [105, 104,  95],\n",
              "        ...,\n",
              "        [ 91,  95,  71],\n",
              "        [ 87,  90,  71],\n",
              "        [ 79,  81,  70]],\n",
              "\n",
              "       [[140, 160, 169],\n",
              "        [145, 153, 154],\n",
              "        [125, 125, 118],\n",
              "        ...,\n",
              "        [ 96,  99,  78],\n",
              "        [ 77,  80,  62],\n",
              "        [ 71,  73,  61]],\n",
              "\n",
              "       [[140, 155, 164],\n",
              "        [139, 146, 149],\n",
              "        [115, 115, 112],\n",
              "        ...,\n",
              "        [ 79,  82,  64],\n",
              "        [ 68,  70,  55],\n",
              "        [ 67,  69,  55]],\n",
              "\n",
              "       ...,\n",
              "\n",
              "       [[175, 167, 166],\n",
              "        [156, 154, 160],\n",
              "        [154, 160, 170],\n",
              "        ...,\n",
              "        [ 42,  34,  36],\n",
              "        [ 61,  53,  57],\n",
              "        [ 93,  83,  91]],\n",
              "\n",
              "       [[165, 154, 128],\n",
              "        [156, 152, 130],\n",
              "        [159, 161, 142],\n",
              "        ...,\n",
              "        [103,  93,  96],\n",
              "        [123, 114, 120],\n",
              "        [131, 121, 131]],\n",
              "\n",
              "       [[163, 148, 120],\n",
              "        [158, 148, 122],\n",
              "        [163, 156, 133],\n",
              "        ...,\n",
              "        [143, 133, 139],\n",
              "        [143, 134, 142],\n",
              "        [143, 133, 144]]], dtype=uint8)"
            ]
          },
          "metadata": {
            "tags": []
          },
          "execution_count": 33
        }
      ]
    },
    {
      "cell_type": "code",
      "metadata": {
        "id": "3QBMNcWWhKV_",
        "colab": {
          "base_uri": "https://localhost:8080/"
        },
        "outputId": "2b68c155-a674-4fbe-ce64-05e31084f7fc"
      },
      "source": [
        "y_train = y_train.reshape(-1,)\n",
        "y_train[:5]"
      ],
      "execution_count": 34,
      "outputs": [
        {
          "output_type": "execute_result",
          "data": {
            "text/plain": [
              "array([6, 9, 9, 4, 1], dtype=uint8)"
            ]
          },
          "metadata": {
            "tags": []
          },
          "execution_count": 34
        }
      ]
    },
    {
      "cell_type": "code",
      "metadata": {
        "id": "W77fxOGMfiJL"
      },
      "source": [
        "X_tr=[]\n",
        "Y_tr=[]\n",
        "p=X_train.shape[0]\n",
        "for i in range(p):\n",
        "  if (y_train[i]==1):\n",
        "    X_tr.append(X_train[i])\n",
        "    Y_tr.append(0)\n",
        "  if (y_train[i]==9):\n",
        "    X_tr.append(X_train[i])\n",
        "    Y_tr.append(1)\n",
        "\n",
        "X_tr=np.array(X_tr)\n",
        "Y_tr=np.array(Y_tr)\n"
      ],
      "execution_count": 35,
      "outputs": []
    },
    {
      "cell_type": "code",
      "metadata": {
        "colab": {
          "base_uri": "https://localhost:8080/"
        },
        "id": "T8PqxJ2-nKzn",
        "outputId": "b0827727-a66f-4f4e-8ec2-b1222cfc1a52"
      },
      "source": [
        "Y_tr[0]"
      ],
      "execution_count": 36,
      "outputs": [
        {
          "output_type": "execute_result",
          "data": {
            "text/plain": [
              "1"
            ]
          },
          "metadata": {
            "tags": []
          },
          "execution_count": 36
        }
      ]
    },
    {
      "cell_type": "code",
      "metadata": {
        "id": "flry8LKFh_Tr"
      },
      "source": [
        "y_test = y_test.reshape(-1,)"
      ],
      "execution_count": 37,
      "outputs": []
    },
    {
      "cell_type": "code",
      "metadata": {
        "colab": {
          "base_uri": "https://localhost:8080/"
        },
        "id": "GM-_nh9Tmzvr",
        "outputId": "10df3add-84f8-4abe-86c0-7afffb5990e9"
      },
      "source": [
        "y_test.shape"
      ],
      "execution_count": 38,
      "outputs": [
        {
          "output_type": "execute_result",
          "data": {
            "text/plain": [
              "(10000,)"
            ]
          },
          "metadata": {
            "tags": []
          },
          "execution_count": 38
        }
      ]
    },
    {
      "cell_type": "code",
      "metadata": {
        "id": "kWErxTjNlzUA"
      },
      "source": [
        "X_te=[]\n",
        "Y_te=[]\n",
        "p=X_test.shape[0]\n",
        "for i in range(p):\n",
        "  if (y_test[i]==1):\n",
        "    X_te.append(X_test[i])\n",
        "    Y_te.append(0)\n",
        "  if (y_test[i]==9):\n",
        "    X_te.append(X_test[i])\n",
        "    Y_te.append(1)\n",
        "\n",
        "X_te=np.array(X_te)\n",
        "Y_te=np.array(Y_te)"
      ],
      "execution_count": 39,
      "outputs": []
    },
    {
      "cell_type": "code",
      "metadata": {
        "colab": {
          "base_uri": "https://localhost:8080/"
        },
        "id": "3loA1OB3mh8i",
        "outputId": "4073e2e4-4942-47de-d366-177937035078"
      },
      "source": [
        "Y_te[:20]"
      ],
      "execution_count": 40,
      "outputs": [
        {
          "output_type": "execute_result",
          "data": {
            "text/plain": [
              "array([0, 0, 1, 1, 1, 1, 1, 0, 1, 1, 1, 1, 0, 1, 0, 0, 1, 0, 0, 0])"
            ]
          },
          "metadata": {
            "tags": []
          },
          "execution_count": 40
        }
      ]
    },
    {
      "cell_type": "code",
      "metadata": {
        "id": "I6U5cRvAiBX4"
      },
      "source": [
        "classes = [\"car\",\"truck\"]"
      ],
      "execution_count": 41,
      "outputs": []
    },
    {
      "cell_type": "code",
      "metadata": {
        "colab": {
          "base_uri": "https://localhost:8080/"
        },
        "id": "p0PN3TPwo9Oe",
        "outputId": "93c7b734-0a87-47ca-d67b-c4c335830fcf"
      },
      "source": [
        "Y_tr[:100]"
      ],
      "execution_count": 42,
      "outputs": [
        {
          "output_type": "execute_result",
          "data": {
            "text/plain": [
              "array([1, 1, 0, 0, 1, 1, 1, 1, 0, 0, 0, 0, 1, 1, 0, 0, 0, 0, 1, 1, 0, 1,\n",
              "       0, 1, 0, 0, 0, 0, 1, 0, 1, 1, 0, 1, 0, 1, 0, 1, 0, 0, 0, 0, 1, 1,\n",
              "       0, 1, 0, 0, 0, 1, 1, 0, 1, 1, 0, 1, 0, 1, 1, 1, 0, 0, 0, 0, 0, 0,\n",
              "       0, 0, 0, 1, 1, 1, 1, 1, 0, 1, 0, 1, 0, 0, 0, 1, 1, 0, 0, 1, 1, 1,\n",
              "       0, 0, 0, 1, 0, 1, 1, 0, 1, 0, 1, 0])"
            ]
          },
          "metadata": {
            "tags": []
          },
          "execution_count": 42
        }
      ]
    },
    {
      "cell_type": "code",
      "metadata": {
        "id": "i3dJjbORiC8o"
      },
      "source": [
        "def plot_sample(X, y, index):\n",
        "    plt.figure(figsize = (15,2))\n",
        "    plt.imshow(X[index])\n",
        "    plt.xlabel(classes[y[index]])"
      ],
      "execution_count": 43,
      "outputs": []
    },
    {
      "cell_type": "code",
      "metadata": {
        "id": "eJZ67IuciIV_",
        "colab": {
          "base_uri": "https://localhost:8080/",
          "height": 1000
        },
        "outputId": "f5e54e34-079d-46c2-b64c-31abc9ce8f9e"
      },
      "source": [
        "for i in range(10):\n",
        "  plot_sample(X_tr, Y_tr, i)"
      ],
      "execution_count": 45,
      "outputs": [
        {
          "output_type": "display_data",
          "data": {
            "image/png": "[encoded data removed]",
            "text/plain": [
              "<Figure size 1080x144 with 1 Axes>"
            ]
          },
          "metadata": {
            "tags": [],
            "needs_background": "light"
          }
        },
        {
          "output_type": "display_data",
          "data": {
            "image/png": "[encoded data removed]",
            "text/plain": [
              "<Figure size 1080x144 with 1 Axes>"
            ]
          },
          "metadata": {
            "tags": [],
            "needs_background": "light"
          }
        },
        {
          "output_type": "display_data",
          "data": {
            "image/png": "[encoded data removed]",
            "text/plain": [
              "<Figure size 1080x144 with 1 Axes>"
            ]
          },
          "metadata": {
            "tags": [],
            "needs_background": "light"
          }
        },
        {
          "output_type": "display_data",
          "data": {
            "image/png": "[encoded data removed]",
            "text/plain": [
              "<Figure size 1080x144 with 1 Axes>"
            ]
          },
          "metadata": {
            "tags": [],
            "needs_background": "light"
          }
        },
        {
          "output_type": "display_data",
          "data": {
            "image/png": "[encoded data removed]",
            "text/plain": [
              "<Figure size 1080x144 with 1 Axes>"
            ]
          },
          "metadata": {
            "tags": [],
            "needs_background": "light"
          }
        },
        {
          "output_type": "display_data",
          "data": {
            "image/png": "[encoded data removed]",
            "text/plain": [
              "<Figure size 1080x144 with 1 Axes>"
            ]
          },
          "metadata": {
            "tags": [],
            "needs_background": "light"
          }
        },
        {
          "output_type": "display_data",
          "data": {
            "image/png": "[encoded data removed]",
            "text/plain": [
              "<Figure size 1080x144 with 1 Axes>"
            ]
          },
          "metadata": {
            "tags": [],
            "needs_background": "light"
          }
        },
        {
          "output_type": "display_data",
          "data": {
            "image/png": "[encoded data removed]",
            "text/plain": [
              "<Figure size 1080x144 with 1 Axes>"
            ]
          },
          "metadata": {
            "tags": [],
            "needs_background": "light"
          }
        },
        {
          "output_type": "display_data",
          "data": {
            "image/png": "[encoded data removed]",
            "text/plain": [
              "<Figure size 1080x144 with 1 Axes>"
            ]
          },
          "metadata": {
            "tags": [],
            "needs_background": "light"
          }
        },
        {
          "output_type": "display_data",
          "data": {
            "image/png": "[encoded data removed]",
            "text/plain": [
              "<Figure size 1080x144 with 1 Axes>"
            ]
          },
          "metadata": {
            "tags": [],
            "needs_background": "light"
          }
        }
      ]
    },
    {
      "cell_type": "code",
      "metadata": {
        "id": "18GXjf2ViLRa"
      },
      "source": [
        "X_tr=X_tr/255\n",
        "X_te=X_te/255"
      ],
      "execution_count": 46,
      "outputs": []
    },
    {
      "cell_type": "code",
      "metadata": {
        "id": "VvxZGa3oiXiW"
      },
      "source": [
        "cnn=models.Sequential([\n",
        "                       #cnn\n",
        "                      layers.Conv2D(filters=32,kernel_size=(3,3),activation='relu',input_shape=(32,32,3)),\n",
        "                      layers.MaxPool2D((2,2)),\n",
        "                       \n",
        "                      layers.Conv2D(filters=64,kernel_size=(3,3),activation='relu',input_shape=(32,32,3)),\n",
        "                      layers.MaxPool2D((2,2)),\n",
        "\n",
        "\n",
        "                      layers.Flatten(),\n",
        "                      layers.Dense(64,activation='relu'),\n",
        "                      layers.Dense(10,activation='softmax')\n",
        "])"
      ],
      "execution_count": 47,
      "outputs": []
    },
    {
      "cell_type": "code",
      "metadata": {
        "id": "5ClmCApViZYg",
        "colab": {
          "base_uri": "https://localhost:8080/"
        },
        "outputId": "736f8cae-8ec2-47e1-f0a5-ac692df35ab7"
      },
      "source": [
        "cnn.compile(optimizer='adam',\n",
        "            loss='sparse_categorical_crossentropy',\n",
        "            metrics=['accuracy']\n",
        "            )\n",
        "cnn.fit(X_tr,Y_tr,epochs=15)"
      ],
      "execution_count": 21,
      "outputs": [
        {
          "output_type": "stream",
          "text": [
            "Epoch 1/15\n",
            "313/313 [==============================] - 9s 29ms/step - loss: 0.5973 - accuracy: 0.6831\n",
            "Epoch 2/15\n",
            "313/313 [==============================] - 9s 29ms/step - loss: 0.4465 - accuracy: 0.8007\n",
            "Epoch 3/15\n",
            "313/313 [==============================] - 9s 29ms/step - loss: 0.3721 - accuracy: 0.8384\n",
            "Epoch 4/15\n",
            "313/313 [==============================] - 9s 28ms/step - loss: 0.3162 - accuracy: 0.8696\n",
            "Epoch 5/15\n",
            "313/313 [==============================] - 9s 29ms/step - loss: 0.2784 - accuracy: 0.8835\n",
            "Epoch 6/15\n",
            "313/313 [==============================] - 9s 28ms/step - loss: 0.2429 - accuracy: 0.9030\n",
            "Epoch 7/15\n",
            "313/313 [==============================] - 9s 28ms/step - loss: 0.2222 - accuracy: 0.9114\n",
            "Epoch 8/15\n",
            "313/313 [==============================] - 9s 28ms/step - loss: 0.1971 - accuracy: 0.9226\n",
            "Epoch 9/15\n",
            "313/313 [==============================] - 9s 28ms/step - loss: 0.1765 - accuracy: 0.9299\n",
            "Epoch 10/15\n",
            "313/313 [==============================] - 9s 28ms/step - loss: 0.1490 - accuracy: 0.9440\n",
            "Epoch 11/15\n",
            "313/313 [==============================] - 9s 28ms/step - loss: 0.1360 - accuracy: 0.9464\n",
            "Epoch 12/15\n",
            "313/313 [==============================] - 9s 28ms/step - loss: 0.1133 - accuracy: 0.9562\n",
            "Epoch 13/15\n",
            "313/313 [==============================] - 9s 29ms/step - loss: 0.1025 - accuracy: 0.9605\n",
            "Epoch 14/15\n",
            "313/313 [==============================] - 9s 29ms/step - loss: 0.0752 - accuracy: 0.9707\n",
            "Epoch 15/15\n",
            "313/313 [==============================] - 9s 29ms/step - loss: 0.0747 - accuracy: 0.9726\n"
          ],
          "name": "stdout"
        },
        {
          "output_type": "execute_result",
          "data": {
            "text/plain": [
              "<tensorflow.python.keras.callbacks.History at 0x7fec22117f50>"
            ]
          },
          "metadata": {
            "tags": []
          },
          "execution_count": 21
        }
      ]
    },
    {
      "cell_type": "code",
      "metadata": {
        "id": "atRQvVtYicaA",
        "colab": {
          "base_uri": "https://localhost:8080/"
        },
        "outputId": "92531e29-3a4a-4584-e4f9-76fd3419376d"
      },
      "source": [
        "cnn.evaluate(X_te,Y_te)"
      ],
      "execution_count": 22,
      "outputs": [
        {
          "output_type": "stream",
          "text": [
            "63/63 [==============================] - 1s 10ms/step - loss: 0.3757 - accuracy: 0.8915\n"
          ],
          "name": "stdout"
        },
        {
          "output_type": "execute_result",
          "data": {
            "text/plain": [
              "[0.3757126033306122, 0.8914999961853027]"
            ]
          },
          "metadata": {
            "tags": []
          },
          "execution_count": 22
        }
      ]
    },
    {
      "cell_type": "code",
      "metadata": {
        "id": "ojYLmtlEieUM",
        "colab": {
          "base_uri": "https://localhost:8080/"
        },
        "outputId": "c7233730-47e8-4e5b-dcf3-2ea313892797"
      },
      "source": [
        "y_pred = cnn.predict(X_te)\n",
        "y_pred[:5]"
      ],
      "execution_count": 23,
      "outputs": [
        {
          "output_type": "execute_result",
          "data": {
            "text/plain": [
              "array([[9.9990284e-01, 9.7139957e-05, 3.6478529e-10, 5.3593840e-10,\n",
              "        1.1889581e-10, 6.2319136e-11, 8.0209762e-11, 4.4875345e-10,\n",
              "        1.0950110e-09, 1.4342941e-10],\n",
              "       [9.9995279e-01, 4.7163481e-05, 1.0640542e-08, 1.9540666e-08,\n",
              "        8.6352694e-09, 3.1613610e-09, 1.2257307e-08, 3.0090138e-08,\n",
              "        3.9259611e-08, 5.3098774e-09],\n",
              "       [2.4541936e-05, 9.9997544e-01, 5.5000604e-09, 1.6363487e-09,\n",
              "        6.4859196e-10, 3.7325296e-10, 3.2705771e-09, 1.2457377e-09,\n",
              "        6.3734924e-09, 6.9612067e-09],\n",
              "       [5.3377327e-04, 9.9946624e-01, 4.0196571e-09, 1.4713779e-09,\n",
              "        7.5853246e-10, 2.9790290e-10, 7.9258849e-10, 1.6753771e-09,\n",
              "        6.0179448e-09, 3.2669920e-09],\n",
              "       [6.4808695e-04, 9.9935192e-01, 3.3668104e-09, 1.1584255e-09,\n",
              "        5.4133931e-10, 2.2606918e-10, 2.2477726e-09, 1.6279962e-09,\n",
              "        3.0561338e-09, 3.4682490e-09]], dtype=float32)"
            ]
          },
          "metadata": {
            "tags": []
          },
          "execution_count": 23
        }
      ]
    },
    {
      "cell_type": "code",
      "metadata": {
        "id": "e6W0bPliigQZ",
        "colab": {
          "base_uri": "https://localhost:8080/"
        },
        "outputId": "d2ec4334-0536-49aa-8be3-5c0751779d5e"
      },
      "source": [
        "y_classes = [np.argmax(element) for element in y_pred]\n",
        "y_classes[:5]"
      ],
      "execution_count": 24,
      "outputs": [
        {
          "output_type": "execute_result",
          "data": {
            "text/plain": [
              "[0, 0, 1, 1, 1]"
            ]
          },
          "metadata": {
            "tags": []
          },
          "execution_count": 24
        }
      ]
    },
    {
      "cell_type": "code",
      "metadata": {
        "id": "pTWPO3yvivk-",
        "colab": {
          "base_uri": "https://localhost:8080/"
        },
        "outputId": "897b2394-8679-4699-833f-99b63fd48892"
      },
      "source": [
        "from sklearn.metrics import confusion_matrix , classification_report\n",
        "import numpy as np\n",
        "y_pred = cnn.predict(X_te)\n",
        "y_pred_classes = [np.argmax(element) for element in y_pred]\n",
        "\n",
        "print(\"Classification Report: \\n\", classification_report(Y_te, y_pred_classes))"
      ],
      "execution_count": 25,
      "outputs": [
        {
          "output_type": "stream",
          "text": [
            "Classification Report: \n",
            "               precision    recall  f1-score   support\n",
            "\n",
            "           0       0.89      0.90      0.89      1000\n",
            "           1       0.90      0.88      0.89      1000\n",
            "\n",
            "    accuracy                           0.89      2000\n",
            "   macro avg       0.89      0.89      0.89      2000\n",
            "weighted avg       0.89      0.89      0.89      2000\n",
            "\n"
          ],
          "name": "stdout"
        }
      ]
    },
    {
      "cell_type": "code",
      "metadata": {
        "colab": {
          "base_uri": "https://localhost:8080/"
        },
        "id": "1jeCYUF8zp0d",
        "outputId": "7c02b539-3724-45fc-f1b7-64233d5bc92c"
      },
      "source": [
        "cnn.save('/content/drive/MyDrive/Colab Notebooks/BINARY')"
      ],
      "execution_count": 26,
      "outputs": [
        {
          "output_type": "stream",
          "text": [
            "INFO:tensorflow:Assets written to: /content/drive/MyDrive/Colab Notebooks/BINARY/assets\n"
          ],
          "name": "stdout"
        }
      ]
    }
  ]
}